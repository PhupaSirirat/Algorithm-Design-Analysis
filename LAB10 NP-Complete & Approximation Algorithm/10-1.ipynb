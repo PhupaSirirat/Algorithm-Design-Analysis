{
 "cells": [
  {
   "cell_type": "code",
   "execution_count": 2,
   "metadata": {},
   "outputs": [],
   "source": [
    "from itertools import combinations\n",
    "\n",
    "def is_vertex_cover(graph, cover_set):\n",
    "    for i in range(len(graph)):\n",
    "        for j in range(i + 1, len(graph)):\n",
    "            if graph[i][j] == 1:  # edge exists between vertex i and j\n",
    "                # Check if the edge is covered by the vertices in the cover_set\n",
    "                if i not in cover_set and j not in cover_set:\n",
    "                    return False\n",
    "    return True\n",
    "\n",
    "def find_all_vertex_covers(graph, k):\n",
    "    n = len(graph)\n",
    "    vertices = range(n)\n",
    "    covers = []\n",
    "    \n",
    "    # Try all combinations of vertices of size k\n",
    "    for cover_set in combinations(vertices, k):\n",
    "        if is_vertex_cover(graph, cover_set):\n",
    "            covers.append(cover_set)\n",
    "    \n",
    "    return covers\n",
    "\n",
    "def run_test(graph, k):\n",
    "    # Find and print the result\n",
    "    vertex_covers = find_all_vertex_covers(graph, k)\n",
    "\n",
    "    if vertex_covers:\n",
    "        print(\"Yes\")\n",
    "        for cover_set in vertex_covers:\n",
    "            print(\" \".join(map(str, [v + 1 for v in cover_set])))  # Convert to 1-indexed output\n",
    "    else:\n",
    "        print(\"No\")\n"
   ]
  },
  {
   "cell_type": "code",
   "execution_count": 3,
   "metadata": {},
   "outputs": [
    {
     "name": "stdout",
     "output_type": "stream",
     "text": [
      "Yes\n",
      "1 2 5\n",
      "1 3 4\n",
      "2 3 4\n",
      "2 3 5\n"
     ]
    }
   ],
   "source": [
    "# Hardcoded input\n",
    "k = 3  # Value of K\n",
    "graph = [\n",
    "    [0, 1, 1, 0, 0],\n",
    "    [1, 0, 1, 1, 0],\n",
    "    [1, 1, 0, 0, 1],\n",
    "    [0, 1, 0, 0, 1],\n",
    "    [0, 0, 1, 1, 0]\n",
    "]\n",
    "\n",
    "run_test(graph, k)"
   ]
  },
  {
   "cell_type": "code",
   "execution_count": null,
   "metadata": {},
   "outputs": [
    {
     "name": "stdout",
     "output_type": "stream",
     "text": [
      "Yes\n",
      "4 5\n"
     ]
    }
   ],
   "source": [
    "# 1.1\n",
    "'''\n",
    "2\n",
    "0 0 0 0 1\n",
    "0 0 0 1 1\n",
    "0 0 0 1 0\n",
    "0 1 1 0 1\n",
    "1 1 0 1 0\n",
    "'''\n",
    "k = 2\n",
    "graph = [\n",
    "    [0, 0, 0, 0, 1],\n",
    "    [0, 0, 0, 1, 1],\n",
    "    [0, 0, 0, 1, 0],\n",
    "    [0, 1, 1, 0, 1],\n",
    "    [1, 1, 0, 1, 0]\n",
    "]\n",
    "\n",
    "run_test(graph, k)"
   ]
  },
  {
   "cell_type": "code",
   "execution_count": null,
   "metadata": {},
   "outputs": [
    {
     "name": "stdout",
     "output_type": "stream",
     "text": [
      "Yes\n",
      "1 2 4\n",
      "1 4 5\n",
      "2 3 5\n",
      "2 4 5\n",
      "3 4 5\n"
     ]
    }
   ],
   "source": [
    "# 1.2\n",
    "'''\n",
    "3\n",
    "0 0 0 0 1\n",
    "0 0 0 1 1\n",
    "0 0 0 1 0\n",
    "0 1 1 0 1\n",
    "1 1 0 1 0\n",
    "'''\n",
    "k = 3\n",
    "graph = [\n",
    "    [0, 0, 0, 0, 1],\n",
    "    [0, 0, 0, 1, 1],\n",
    "    [0, 0, 0, 1, 0],\n",
    "    [0, 1, 1, 0, 1],\n",
    "    [1, 1, 0, 1, 0]\n",
    "]\n",
    "\n",
    "run_test(graph, k)"
   ]
  },
  {
   "cell_type": "code",
   "execution_count": 6,
   "metadata": {},
   "outputs": [
    {
     "name": "stdout",
     "output_type": "stream",
     "text": [
      "No\n"
     ]
    }
   ],
   "source": [
    "# 1.3\n",
    "'''\n",
    "3\n",
    "0 1 0 0 1 0 0 0\n",
    "1 0 1 0 0 1 0 0\n",
    "0 1 0 1 0 0 1 0\n",
    "0 0 1 0 0 0 0 1\n",
    "1 0 0 0 0 1 0 0\n",
    "0 1 0 0 1 0 0 0\n",
    "0 0 1 0 0 0 0 1\n",
    "0 0 0 1 0 0 1 0\n",
    "'''\n",
    "k = 3\n",
    "graph = [\n",
    "    [0, 1, 0, 0, 1, 0, 0, 0],\n",
    "    [1, 0, 1, 0, 0, 1, 0, 0],\n",
    "    [0, 1, 0, 1, 0, 0, 1, 0],\n",
    "    [0, 0, 1, 0, 0, 0, 0, 1],\n",
    "    [1, 0, 0, 0, 0, 1, 0, 0],\n",
    "    [0, 1, 0, 0, 1, 0, 0, 0],\n",
    "    [0, 0, 1, 0, 0, 0, 0, 1],\n",
    "    [0, 0, 0, 1, 0, 0, 1, 0]\n",
    "]\n",
    "\n",
    "run_test(graph, k)"
   ]
  },
  {
   "cell_type": "code",
   "execution_count": 7,
   "metadata": {},
   "outputs": [
    {
     "name": "stdout",
     "output_type": "stream",
     "text": [
      "Yes\n",
      "1 3 6 8\n",
      "2 3 5 8\n",
      "2 4 5 7\n"
     ]
    }
   ],
   "source": [
    "# 1.4\n",
    "'''\n",
    "4\n",
    "0 1 0 0 1 0 0 0\n",
    "1 0 1 0 0 1 0 0\n",
    "0 1 0 1 0 0 1 0\n",
    "0 0 1 0 0 0 0 1\n",
    "1 0 0 0 0 1 0 0\n",
    "0 1 0 0 1 0 0 0\n",
    "0 0 1 0 0 0 0 1\n",
    "0 0 0 1 0 0 1 0\n",
    "'''\n",
    "k = 4\n",
    "graph = [\n",
    "    [0, 1, 0, 0, 1, 0, 0, 0],\n",
    "    [1, 0, 1, 0, 0, 1, 0, 0],\n",
    "    [0, 1, 0, 1, 0, 0, 1, 0],\n",
    "    [0, 0, 1, 0, 0, 0, 0, 1],\n",
    "    [1, 0, 0, 0, 0, 1, 0, 0],\n",
    "    [0, 1, 0, 0, 1, 0, 0, 0],\n",
    "    [0, 0, 1, 0, 0, 0, 0, 1],\n",
    "    [0, 0, 0, 1, 0, 0, 1, 0]\n",
    "]\n",
    "\n",
    "run_test(graph, k)"
   ]
  },
  {
   "cell_type": "code",
   "execution_count": 8,
   "metadata": {},
   "outputs": [
    {
     "name": "stdout",
     "output_type": "stream",
     "text": [
      "Yes\n",
      "1 2 4\n",
      "2 3 5\n",
      "3 4 5\n"
     ]
    }
   ],
   "source": [
    "# 1.5\n",
    "'''\n",
    "3\n",
    "0 0 1 0 1\n",
    "0 0 1 1 1\n",
    "1 1 0 1 0\n",
    "0 1 1 0 1\n",
    "1 1 0 1 0\n",
    "'''\n",
    "k = 3\n",
    "graph = [\n",
    "    [0, 0, 1, 0, 1],\n",
    "    [0, 0, 1, 1, 1],\n",
    "    [1, 1, 0, 1, 0],\n",
    "    [0, 1, 1, 0, 1],\n",
    "    [1, 1, 0, 1, 0]\n",
    "]\n",
    "\n",
    "run_test(graph, k)"
   ]
  }
 ],
 "metadata": {
  "kernelspec": {
   "display_name": "Python 3",
   "language": "python",
   "name": "python3"
  },
  "language_info": {
   "codemirror_mode": {
    "name": "ipython",
    "version": 3
   },
   "file_extension": ".py",
   "mimetype": "text/x-python",
   "name": "python",
   "nbconvert_exporter": "python",
   "pygments_lexer": "ipython3",
   "version": "3.11.5"
  }
 },
 "nbformat": 4,
 "nbformat_minor": 2
}
