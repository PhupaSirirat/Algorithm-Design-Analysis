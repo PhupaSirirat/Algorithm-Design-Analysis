{
 "cells": [
  {
   "cell_type": "code",
   "execution_count": 16,
   "metadata": {},
   "outputs": [],
   "source": [
    "def convert_3sat_to_vertex_cover(clauses):\n",
    "    num_clauses = len(clauses)\n",
    "    variables = set(abs(lit) for clause in clauses for lit in clause)\n",
    "    num_vars = len(variables)\n",
    "\n",
    "    # Calculate the number of vertices and required vertex cover size\n",
    "    k = 2 * num_vars + 3 * num_clauses\n",
    "    K = num_vars + 2 * num_clauses\n",
    "\n",
    "    # Initialize the adjacency matrix for the graph with k vertices\n",
    "    graph = [[0] * k for _ in range(k)]\n",
    "\n",
    "    # Step 1: Create 2 vertices for each variable (x and ¬x) and connect them\n",
    "    var_offset = 0\n",
    "    for var in range(1, num_vars + 1):\n",
    "        graph[var_offset][var_offset + 1] = 1\n",
    "        graph[var_offset + 1][var_offset] = 1\n",
    "        var_offset += 2\n",
    "\n",
    "    # Step 2: Create 3 vertices for each clause and connect them in a triangle\n",
    "    clause_offset = 2 * num_vars\n",
    "    for clause in clauses:\n",
    "        graph[clause_offset][clause_offset + 1] = 1\n",
    "        graph[clause_offset + 1][clause_offset] = 1\n",
    "        graph[clause_offset][clause_offset + 2] = 1\n",
    "        graph[clause_offset + 2][clause_offset] = 1\n",
    "        graph[clause_offset + 1][clause_offset + 2] = 1\n",
    "        graph[clause_offset + 2][clause_offset + 1] = 1\n",
    "        clause_offset += 3\n",
    "\n",
    "    # Step 3: Connect clause vertices to corresponding literal vertices\n",
    "    clause_offset = 2 * num_vars\n",
    "    for clause in clauses:\n",
    "        for i, literal in enumerate(clause):\n",
    "            literal_index = (abs(literal) - 1) * 2  # Literal vertex index\n",
    "            if literal < 0:\n",
    "                literal_index += 1  # Use negated vertex if literal is negative\n",
    "            graph[clause_offset + i][literal_index] = 1\n",
    "            graph[literal_index][clause_offset + i] = 1\n",
    "        clause_offset += 3\n",
    "\n",
    "    return k, K, graph\n",
    "\n",
    "\n",
    "def run_test(clauses):\n",
    "    # Convert 3-SAT to Vertex Cover and print the result\n",
    "    k, K, adjacency_matrix = convert_3sat_to_vertex_cover(clauses)\n",
    "\n",
    "    print(k)  # Total number of vertices\n",
    "    print(K)  # Required size of vertex cover set\n",
    "    for row in adjacency_matrix:\n",
    "        print(\" \".join(map(str, row)))\n"
   ]
  },
  {
   "cell_type": "code",
   "execution_count": 17,
   "metadata": {},
   "outputs": [
    {
     "name": "stdout",
     "output_type": "stream",
     "text": [
      "9\n",
      "5\n",
      "0 1 0 0 0 0 1 0 0\n",
      "1 0 0 0 0 0 0 0 0\n",
      "0 0 0 1 0 0 0 0 0\n",
      "0 0 1 0 0 0 0 1 0\n",
      "0 0 0 0 0 1 0 0 1\n",
      "0 0 0 0 1 0 0 0 0\n",
      "1 0 0 0 0 0 0 1 1\n",
      "0 0 0 1 0 0 1 0 1\n",
      "0 0 0 0 1 0 1 1 0\n"
     ]
    }
   ],
   "source": [
    "# Hardcoded input (3-SAT clauses)\n",
    "clauses = [\n",
    "    [1, -2, 3]\n",
    "]\n",
    "\n",
    "run_test(clauses)  "
   ]
  },
  {
   "cell_type": "code",
   "execution_count": 18,
   "metadata": {},
   "outputs": [
    {
     "name": "stdout",
     "output_type": "stream",
     "text": [
      "12\n",
      "7\n",
      "0 1 0 0 0 0 1 0 0 1 0 0\n",
      "1 0 0 0 0 0 0 0 0 0 0 0\n",
      "0 0 0 1 0 0 0 0 0 0 0 0\n",
      "0 0 1 0 0 0 0 1 0 0 1 0\n",
      "0 0 0 0 0 1 0 0 1 0 0 0\n",
      "0 0 0 0 1 0 0 0 0 0 0 1\n",
      "1 0 0 0 0 0 0 1 1 0 0 0\n",
      "0 0 0 1 0 0 1 0 1 0 0 0\n",
      "0 0 0 0 1 0 1 1 0 0 0 0\n",
      "1 0 0 0 0 0 0 0 0 0 1 1\n",
      "0 0 0 1 0 0 0 0 0 1 0 1\n",
      "0 0 0 0 0 1 0 0 0 1 1 0\n"
     ]
    }
   ],
   "source": [
    "# 3.1\n",
    "'''\n",
    "2\n",
    "1 -2 3\n",
    "1 -2 -3\n",
    "'''\n",
    "\n",
    "clauses = [\n",
    "    [1, -2, 3],\n",
    "    [1, -2, -3]\n",
    "]\n",
    "\n",
    "run_test(clauses)\n"
   ]
  },
  {
   "cell_type": "code",
   "execution_count": 19,
   "metadata": {},
   "outputs": [
    {
     "name": "stdout",
     "output_type": "stream",
     "text": [
      "17\n",
      "10\n",
      "0 1 0 0 0 0 0 0 1 0 0 1 0 0 0 0 0\n",
      "1 0 0 0 0 0 0 0 0 0 0 0 0 0 0 0 0\n",
      "0 0 0 1 0 0 0 0 0 1 0 0 1 0 1 0 0\n",
      "0 0 1 0 0 0 0 0 0 0 0 0 0 0 0 0 0\n",
      "0 0 0 0 0 1 0 0 0 0 0 0 0 0 0 1 0\n",
      "0 0 0 0 1 0 0 0 0 0 0 0 0 1 0 0 0\n",
      "0 0 0 0 0 0 0 1 0 0 1 0 0 0 0 0 0\n",
      "0 0 0 0 0 0 1 0 0 0 0 0 0 0 0 0 1\n",
      "1 0 0 0 0 0 0 0 0 1 1 0 0 0 0 0 0\n",
      "0 0 1 0 0 0 0 0 1 0 1 0 0 0 0 0 0\n",
      "0 0 0 0 0 0 1 0 1 1 0 0 0 0 0 0 0\n",
      "1 0 0 0 0 0 0 0 0 0 0 0 1 1 0 0 0\n",
      "0 0 1 0 0 0 0 0 0 0 0 1 0 1 0 0 0\n",
      "0 0 0 0 0 1 0 0 0 0 0 1 1 0 0 0 0\n",
      "0 0 1 0 0 0 0 0 0 0 0 0 0 0 0 1 1\n",
      "0 0 0 0 1 0 0 0 0 0 0 0 0 0 1 0 1\n",
      "0 0 0 0 0 0 0 1 0 0 0 0 0 0 1 1 0\n"
     ]
    }
   ],
   "source": [
    "# 3.2\n",
    "'''\n",
    "3\n",
    "1 2 4\n",
    "1 2 -3\n",
    "2 3 -4\n",
    "'''\n",
    "\n",
    "clauses = [\n",
    "    [1, 2, 4],\n",
    "    [1, 2, -3],\n",
    "    [2, 3, -4]\n",
    "]\n",
    "\n",
    "run_test(clauses)"
   ]
  },
  {
   "cell_type": "code",
   "execution_count": 20,
   "metadata": {},
   "outputs": [
    {
     "name": "stdout",
     "output_type": "stream",
     "text": [
      "26\n",
      "15\n",
      "0 1 0 0 0 0 0 0 0 0 0 0 0 0 1 0 0 0 0 0 0 0 0 0 0 0\n",
      "1 0 0 0 0 0 0 0 0 0 0 0 0 0 0 0 0 0 0 0 0 0 0 0 0 0\n",
      "0 0 0 1 0 0 0 0 0 0 0 0 0 0 0 1 0 0 0 0 0 0 0 0 0 0\n",
      "0 0 1 0 0 0 0 0 0 0 0 0 0 0 0 0 0 0 0 0 0 0 0 1 0 0\n",
      "0 0 0 0 0 1 0 0 0 0 0 0 0 0 0 0 0 0 0 0 0 0 0 0 1 0\n",
      "0 0 0 0 1 0 0 0 0 0 0 0 0 0 0 0 0 0 0 0 1 0 0 0 0 0\n",
      "0 0 0 0 0 0 0 1 0 0 0 0 0 0 0 0 0 1 0 0 0 1 0 0 0 0\n",
      "0 0 0 0 0 0 1 0 0 0 0 0 0 0 0 0 0 0 0 0 0 0 0 0 0 0\n",
      "0 0 0 0 0 0 0 0 0 1 0 0 0 0 0 0 0 0 0 0 0 0 0 0 0 0\n",
      "0 0 0 0 0 0 0 0 1 0 0 0 0 0 0 0 0 0 1 0 0 0 1 0 0 0\n",
      "0 0 0 0 0 0 0 0 0 0 0 1 0 0 0 0 1 0 0 0 0 0 0 0 0 1\n",
      "0 0 0 0 0 0 0 0 0 0 1 0 0 0 0 0 0 0 0 0 0 0 0 0 0 0\n",
      "0 0 0 0 0 0 0 0 0 0 0 0 0 1 0 0 0 0 0 1 0 0 0 0 0 0\n",
      "0 0 0 0 0 0 0 0 0 0 0 0 1 0 0 0 0 0 0 0 0 0 0 0 0 0\n",
      "1 0 0 0 0 0 0 0 0 0 0 0 0 0 0 1 1 0 0 0 0 0 0 0 0 0\n",
      "0 0 1 0 0 0 0 0 0 0 0 0 0 0 1 0 1 0 0 0 0 0 0 0 0 0\n",
      "0 0 0 0 0 0 0 0 0 0 1 0 0 0 1 1 0 0 0 0 0 0 0 0 0 0\n",
      "0 0 0 0 0 0 1 0 0 0 0 0 0 0 0 0 0 0 1 1 0 0 0 0 0 0\n",
      "0 0 0 0 0 0 0 0 0 1 0 0 0 0 0 0 0 1 0 1 0 0 0 0 0 0\n",
      "0 0 0 0 0 0 0 0 0 0 0 0 1 0 0 0 0 1 1 0 0 0 0 0 0 0\n",
      "0 0 0 0 0 1 0 0 0 0 0 0 0 0 0 0 0 0 0 0 0 1 1 0 0 0\n",
      "0 0 0 0 0 0 1 0 0 0 0 0 0 0 0 0 0 0 0 0 1 0 1 0 0 0\n",
      "0 0 0 0 0 0 0 0 0 1 0 0 0 0 0 0 0 0 0 0 1 1 0 0 0 0\n",
      "0 0 0 1 0 0 0 0 0 0 0 0 0 0 0 0 0 0 0 0 0 0 0 0 1 1\n",
      "0 0 0 0 1 0 0 0 0 0 0 0 0 0 0 0 0 0 0 0 0 0 0 1 0 1\n",
      "0 0 0 0 0 0 0 0 0 0 1 0 0 0 0 0 0 0 0 0 0 0 0 1 1 0\n"
     ]
    }
   ],
   "source": [
    "# 3.3\n",
    "'''\n",
    "4\n",
    "1 2 6\n",
    "4 -5 7\n",
    "-3 4 -5\n",
    "-2 3 6\n",
    "'''\n",
    "\n",
    "clauses = [\n",
    "    [1, 2, 6],\n",
    "    [4, -5, 7],\n",
    "    [-3, 4, -5],\n",
    "    [-2, 3, 6]\n",
    "]\n",
    "\n",
    "run_test(clauses)"
   ]
  }
 ],
 "metadata": {
  "kernelspec": {
   "display_name": "Python 3",
   "language": "python",
   "name": "python3"
  },
  "language_info": {
   "codemirror_mode": {
    "name": "ipython",
    "version": 3
   },
   "file_extension": ".py",
   "mimetype": "text/x-python",
   "name": "python",
   "nbconvert_exporter": "python",
   "pygments_lexer": "ipython3",
   "version": "3.11.5"
  }
 },
 "nbformat": 4,
 "nbformat_minor": 2
}
