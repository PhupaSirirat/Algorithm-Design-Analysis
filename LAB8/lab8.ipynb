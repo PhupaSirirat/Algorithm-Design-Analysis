{
 "cells": [
  {
   "cell_type": "code",
   "execution_count": 8,
   "metadata": {},
   "outputs": [],
   "source": [
    "def max_profit_divide_and_conquer(prices):\n",
    "    def find_max_crossing_profit(prices, left, mid, right):\n",
    "        min_price = prices[mid]\n",
    "        buy_day = mid\n",
    "\n",
    "        for i in range(mid, left - 1, -1):\n",
    "            if prices[i] < min_price:\n",
    "                min_price = prices[i]\n",
    "                buy_day = i\n",
    "\n",
    "        max_price = prices[mid + 1]\n",
    "        sell_day = mid + 1\n",
    "\n",
    "        for j in range(mid + 1, right + 1):\n",
    "            if prices[j] > max_price:\n",
    "                max_price = prices[j]\n",
    "                sell_day = j\n",
    "\n",
    "        max_profit = max_price - min_price\n",
    "        return buy_day, sell_day, max_profit\n",
    "\n",
    "    def max_profit_recursive(prices, left, right):\n",
    "        if left == right:\n",
    "            return left, right, 0\n",
    "\n",
    "        mid = (left + right) // 2\n",
    "        buy_day_left, sell_day_left, profit_left = max_profit_recursive(prices, left, mid)\n",
    "        buy_day_right, sell_day_right, profit_right = max_profit_recursive(prices, mid + 1, right)\n",
    "        buy_day_cross, sell_day_cross, profit_cross = find_max_crossing_profit(prices, left, mid, right)\n",
    "\n",
    "        if profit_left >= profit_right and profit_left >= profit_cross:\n",
    "            return buy_day_left, sell_day_left, profit_left\n",
    "        elif profit_right >= profit_left and profit_right >= profit_cross:\n",
    "            return buy_day_right, sell_day_right, profit_right\n",
    "        else:\n",
    "            return buy_day_cross, sell_day_cross, profit_cross\n",
    "\n",
    "    buy_day, sell_day, max_profit = max_profit_recursive(prices, 0, len(prices) - 1)\n",
    "    holding_days = sell_day - buy_day\n",
    "\n",
    "    return buy_day + 1, prices[buy_day], sell_day + 1, prices[sell_day], max_profit, holding_days\n"
   ]
  },
  {
   "cell_type": "code",
   "execution_count": 9,
   "metadata": {},
   "outputs": [
    {
     "name": "stdout",
     "output_type": "stream",
     "text": [
      "วันซื้อ: 2\n",
      "อัตราแลกเปลี่ยนวันที่ซื้อ: 35.01\n",
      "วันขาย: 16\n",
      "อัตราแลกเปลี่ยนวันที่ขาย: 35.2\n",
      "กำไร: 0.19\n",
      "จำนวนวันที่ถือ: 14\n"
     ]
    }
   ],
   "source": [
    "# test\n",
    "prices = [35.10, 35.01, 35.11, 35.02, 35.08, 35.03, 35.09, 35.12, 35.04, 35.17, 35.14, 35.19, \n",
    "          35.13, 35.07, 35.16, 35.20, 35.06, 35.05, 35.18, 35.16]\n",
    "\n",
    "def run_test(prices):\n",
    "    result = max_profit_divide_and_conquer(prices)\n",
    "    print(\"วันซื้อ:\", result[0])\n",
    "    print(\"อัตราแลกเปลี่ยนวันที่ซื้อ:\", result[1])\n",
    "    print(\"วันขาย:\", result[2])\n",
    "    print(\"อัตราแลกเปลี่ยนวันที่ขาย:\", result[3])\n",
    "    print(\"กำไร: {:.2f}\".format(result[4]))\n",
    "    print(\"จำนวนวันที่ถือ:\", result[5])\n",
    "run_test(prices)"
   ]
  },
  {
   "cell_type": "code",
   "execution_count": 10,
   "metadata": {},
   "outputs": [
    {
     "name": "stdout",
     "output_type": "stream",
     "text": [
      "วันซื้อ: 12\n",
      "อัตราแลกเปลี่ยนวันที่ซื้อ: 30.48\n",
      "วันขาย: 17\n",
      "อัตราแลกเปลี่ยนวันที่ขาย: 35.29\n",
      "กำไร: 4.81\n",
      "จำนวนวันที่ถือ: 5\n"
     ]
    }
   ],
   "source": [
    "# 8.1 \n",
    "number_of_days = int(input(\"ป้อนจำนวนวัน: \"))\n",
    "prices = input(\"ป้อนราคาหุ้นในแต่ละวัน: \").split()\n",
    "prices = [float(price) for price in prices]\n",
    "run_test(prices)"
   ]
  }
 ],
 "metadata": {
  "kernelspec": {
   "display_name": "Python 3",
   "language": "python",
   "name": "python3"
  },
  "language_info": {
   "codemirror_mode": {
    "name": "ipython",
    "version": 3
   },
   "file_extension": ".py",
   "mimetype": "text/x-python",
   "name": "python",
   "nbconvert_exporter": "python",
   "pygments_lexer": "ipython3",
   "version": "3.11.5"
  }
 },
 "nbformat": 4,
 "nbformat_minor": 2
}
