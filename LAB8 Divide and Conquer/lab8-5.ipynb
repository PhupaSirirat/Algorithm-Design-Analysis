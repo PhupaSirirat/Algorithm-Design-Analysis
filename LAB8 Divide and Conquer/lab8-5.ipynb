{
 "cells": [
  {
   "cell_type": "code",
   "execution_count": 52,
   "metadata": {},
   "outputs": [],
   "source": [
    "def max_profit_divide_and_conquer(prices):\n",
    "    def find_max_crossing_profit(prices, left, mid, right):\n",
    "        min_price = prices[mid]\n",
    "        buy_day = mid\n",
    "\n",
    "        for i in range(mid, left - 1, -1):\n",
    "            if prices[i] < min_price:\n",
    "                min_price = prices[i]\n",
    "                buy_day = i\n",
    "\n",
    "        max_price = prices[mid + 1]\n",
    "        sell_day = mid + 1\n",
    "\n",
    "        for j in range(mid + 1, right + 1):\n",
    "            if prices[j] > max_price:\n",
    "                max_price = prices[j]\n",
    "                sell_day = j\n",
    "\n",
    "        max_profit = max_price - min_price\n",
    "        return buy_day, sell_day, max_profit\n",
    "\n",
    "    def max_profit_recursive(prices, left, right):\n",
    "        if left == right:\n",
    "            return left, right, 0\n",
    "        mid = (left + right) // 2\n",
    "        buy_day_left, sell_day_left, profit_left = max_profit_recursive(prices, left, mid)\n",
    "        buy_day_right, sell_day_right, profit_right = max_profit_recursive(prices, mid + 1, right)\n",
    "        buy_day_cross, sell_day_cross, profit_cross = find_max_crossing_profit(prices, left, mid, right)\n",
    "\n",
    "        if profit_left >= profit_right and profit_left >= profit_cross:\n",
    "            return buy_day_left, sell_day_left, profit_left\n",
    "        elif profit_right >= profit_left and profit_right >= profit_cross:\n",
    "            return buy_day_right, sell_day_right, profit_right\n",
    "        else:\n",
    "            return buy_day_cross, sell_day_cross, profit_cross\n",
    "\n",
    "    transactions = []\n",
    "    buy_day, sell_day, max_profit = max_profit_recursive(prices, 0, len(prices) - 1)\n",
    "    holding_days = sell_day - buy_day\n",
    "\n",
    "    return buy_day + 1, prices[buy_day], sell_day + 1, prices[sell_day], max_profit, holding_days, transactions\n"
   ]
  },
  {
   "cell_type": "code",
   "execution_count": 53,
   "metadata": {},
   "outputs": [],
   "source": [
    "def run_test(prices):\n",
    "    result = max_profit_divide_and_conquer(prices)\n",
    "    print(\"วันซื้อ:\", result[0])\n",
    "    print(\"อัตราแลกเปลี่ยนวันที่ซื้อ:\", result[1])\n",
    "    print(\"วันขาย:\", result[2])\n",
    "    print(\"อัตราแลกเปลี่ยนวันที่ขาย:\", result[3])\n",
    "    print(\"กำไร: {:.2f}\".format(result[4]))\n",
    "    print(\"จำนวนวันที่ถือ:\", result[5])\n",
    "    print(\"Translations:\", result[6])"
   ]
  },
  {
   "cell_type": "code",
   "execution_count": 54,
   "metadata": {},
   "outputs": [
    {
     "name": "stdout",
     "output_type": "stream",
     "text": [
      "วันซื้อ: 2\n",
      "อัตราแลกเปลี่ยนวันที่ซื้อ: 40.24\n",
      "วันขาย: 3\n",
      "อัตราแลกเปลี่ยนวันที่ขาย: 67.99\n",
      "กำไร: 27.75\n",
      "จำนวนวันที่ถือ: 1\n",
      "Translations: []\n",
      "--------------------------------------------------\n",
      "วันซื้อ: 1\n",
      "อัตราแลกเปลี่ยนวันที่ซื้อ: 39.85\n",
      "วันขาย: 2\n",
      "อัตราแลกเปลี่ยนวันที่ขาย: 40.0\n",
      "กำไร: 0.15\n",
      "จำนวนวันที่ถือ: 1\n",
      "Translations: []\n",
      "--------------------------------------------------\n",
      "วันซื้อ: 1\n",
      "อัตราแลกเปลี่ยนวันที่ซื้อ: 64.06\n",
      "วันขาย: 1\n",
      "อัตราแลกเปลี่ยนวันที่ขาย: 64.06\n",
      "กำไร: 0.00\n",
      "จำนวนวันที่ถือ: 0\n",
      "Translations: []\n",
      "--------------------------------------------------\n",
      "วันซื้อ: 1\n",
      "อัตราแลกเปลี่ยนวันที่ซื้อ: 40.0\n",
      "วันขาย: 1\n",
      "อัตราแลกเปลี่ยนวันที่ขาย: 40.0\n",
      "กำไร: 0.00\n",
      "จำนวนวันที่ถือ: 0\n",
      "Translations: []\n",
      "--------------------------------------------------\n"
     ]
    }
   ],
   "source": [
    "# 8.5\n",
    "'''\n",
    "80\n",
    "43.12 44.49 43.01 41.54 40.32 40.12 37.91 32.40 32.99 34.33 31.72 30.48 31.07 30.72 32.48 34.25 35.29 33.93 32.32 31.18 40.24 39.85 40.52 47.03 50.21 49.92 47.61 44.35 48.45 47.81 42.10 42.43 39.94 40.84 43.17 38.01 39.05 38.30 38.15 38.30 67.99 64.06 64.48 67.92 73.94 73.01 69.85 64.80 61.00 53.67 49.01 48.89 49.24 48.09 53.51 52.36 47.85 43.69 43.11 39.70 55.00 40.00 32.00 31.00 30.00 29.00 16.00 15.00 14.00 12.00 11.00 10.00 9.00 9.00 9.00 8.00 6.00 4.00 2.00 1.00\n",
    "'''\n",
    "number_of_days = 80\n",
    "prices = \"43.12 44.49 43.01 41.54 40.32 40.12 37.91 32.40 32.99 34.33 31.72 30.48 31.07 30.72 32.48 34.25 35.29 33.93 32.32 31.18 40.24 39.85 40.52 47.03 50.21 49.92 47.61 44.35 48.45 47.81 42.10 42.43 39.94 40.84 43.17 38.01 39.05 38.30 38.15 38.30 67.99 64.06 64.48 67.92 73.94 73.01 69.85 64.80 61.00 53.67 49.01 48.89 49.24 48.09 53.51 52.36 47.85 43.69 43.11 39.70 55.00 40.00 32.00 31.00 30.00 29.00 16.00 15.00 14.00 12.00 11.00 10.00 9.00 9.00 9.00 8.00 6.00 4.00 2.00 1.00\".split()\n",
    "prices = [float(price) for price in prices]\n",
    "run_test(prices[0::20])\n",
    "print(\"-\"*50)\n",
    "run_test(prices[21::40])\n",
    "print(\"-\"*50)\n",
    "run_test(prices[41::60])\n",
    "print(\"-\"*50)\n",
    "run_test(prices[61::80])\n",
    "print(\"-\"*50)"
   ]
  }
 ],
 "metadata": {
  "kernelspec": {
   "display_name": "Python 3",
   "language": "python",
   "name": "python3"
  },
  "language_info": {
   "codemirror_mode": {
    "name": "ipython",
    "version": 3
   },
   "file_extension": ".py",
   "mimetype": "text/x-python",
   "name": "python",
   "nbconvert_exporter": "python",
   "pygments_lexer": "ipython3",
   "version": "3.11.5"
  }
 },
 "nbformat": 4,
 "nbformat_minor": 2
}
