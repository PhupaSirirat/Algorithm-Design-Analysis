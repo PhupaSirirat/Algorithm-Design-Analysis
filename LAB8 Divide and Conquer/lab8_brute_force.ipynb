{
 "cells": [
  {
   "cell_type": "code",
   "execution_count": 4,
   "metadata": {},
   "outputs": [],
   "source": [
    "def max_profit_brute_force(prices):\n",
    "    max_profit = 0\n",
    "    buy_day = 0\n",
    "    sell_day = 0\n",
    "\n",
    "    for i in range(len(prices)):\n",
    "        for j in range(i + 1, len(prices)):\n",
    "            profit = prices[j] - prices[i]\n",
    "            if profit > max_profit:\n",
    "                max_profit = profit\n",
    "                buy_day = i\n",
    "                sell_day = j\n",
    "\n",
    "    holding_days = sell_day - buy_day\n",
    "\n",
    "    return [buy_day + 1, prices[buy_day], sell_day + 1, prices[sell_day], max_profit, holding_days]\n"
   ]
  },
  {
   "cell_type": "code",
   "execution_count": 5,
   "metadata": {},
   "outputs": [
    {
     "name": "stdout",
     "output_type": "stream",
     "text": [
      "วันซื้อ: 2\n",
      "อัตราแลกเปลี่ยนวันที่ซื้อ: 35.01\n",
      "วันขาย: 16\n",
      "อัตราแลกเปลี่ยนวันที่ขาย: 35.2\n",
      "กำไร: 0.19\n",
      "จำนวนวันที่ถือ: 14\n"
     ]
    }
   ],
   "source": [
    "# test\n",
    "prices = [35.10, 35.01, 35.11, 35.02, 35.08, 35.03, 35.09, 35.12, 35.04, 35.17, 35.14, 35.19, \n",
    "          35.13, 35.07, 35.16, 35.20, 35.06, 35.05, 35.18, 35.16]\n",
    "\n",
    "def run_test(prices):\n",
    "    result = max_profit_brute_force(prices)\n",
    "    print(\"วันซื้อ:\", result[0])\n",
    "    print(\"อัตราแลกเปลี่ยนวันที่ซื้อ:\", result[1])\n",
    "    print(\"วันขาย:\", result[2])\n",
    "    print(\"อัตราแลกเปลี่ยนวันที่ขาย:\", result[3])\n",
    "    print(\"กำไร: {:.2f}\".format(result[4]))\n",
    "    print(\"จำนวนวันที่ถือ:\", result[5])\n",
    "run_test(prices)"
   ]
  }
 ],
 "metadata": {
  "kernelspec": {
   "display_name": "Python 3",
   "language": "python",
   "name": "python3"
  },
  "language_info": {
   "codemirror_mode": {
    "name": "ipython",
    "version": 3
   },
   "file_extension": ".py",
   "mimetype": "text/x-python",
   "name": "python",
   "nbconvert_exporter": "python",
   "pygments_lexer": "ipython3",
   "version": "3.11.5"
  }
 },
 "nbformat": 4,
 "nbformat_minor": 2
}
