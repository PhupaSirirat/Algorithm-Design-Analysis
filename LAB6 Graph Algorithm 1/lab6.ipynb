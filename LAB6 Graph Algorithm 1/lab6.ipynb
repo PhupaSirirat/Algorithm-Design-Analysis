{
 "cells": [
  {
   "cell_type": "code",
   "execution_count": 108,
   "metadata": {},
   "outputs": [],
   "source": [
    "input = \"\"\"\n",
    "7 9 \n",
    "1 2 \n",
    "2 3 \n",
    "3 4 \n",
    "4 1 \n",
    "3 5 \n",
    "5 4 \n",
    "2 6 \n",
    "7 3 \n",
    "7 6\n",
    "\"\"\"\n",
    "\n",
    "# input = \"\"\"\n",
    "# 10 20\n",
    "# 1 3\n",
    "# 1 5\n",
    "# 1 6\n",
    "# 2 5\n",
    "# 2 6\n",
    "# 3 4\n",
    "# 3 5\n",
    "# 5 3\n",
    "# 5 6\n",
    "# 7 4\n",
    "# 8 1\n",
    "# 8 4\n",
    "# 9 2\n",
    "# 9 6\n",
    "# 9 10\n",
    "# 10 3\n",
    "# 10 6\n",
    "# 10 7 \n",
    "# 10 8\n",
    "# 10 9\n",
    "# \"\"\""
   ]
  },
  {
   "cell_type": "code",
   "execution_count": 109,
   "metadata": {},
   "outputs": [
    {
     "name": "stdout",
     "output_type": "stream",
     "text": [
      "7 9\n",
      "[(1, 2), (2, 3), (3, 4), (4, 1), (3, 5), (5, 4), (2, 6), (7, 3), (7, 6)]\n"
     ]
    }
   ],
   "source": [
    "\n",
    "lines = input.strip().split(\"\\n\")\n",
    "n, m = map(int, lines[0].split())\n",
    "edges = [tuple(map(int, x.split())) for x in lines[1:]]\n",
    "print(n, m)\n",
    "print(edges)\n"
   ]
  },
  {
   "cell_type": "code",
   "execution_count": 110,
   "metadata": {},
   "outputs": [],
   "source": [
    "def find_max_islands(n, edges):\n",
    "    # Create a graph\n",
    "    graph = {i: [] for i in range(1, n + 1)}\n",
    "    for a, b in edges:\n",
    "        graph[a].append(b)\n",
    "    print(graph)\n",
    "\n",
    "    # Find connected components\n",
    "    visited = [False] * (n + 1)\n",
    "    visitList = []\n",
    "    def dfs(node):\n",
    "        if visited[node]: return\n",
    "        visited[node] = True\n",
    "        visitList.append(node)\n",
    "        neighbors = graph[node]\n",
    "        for next in neighbors:\n",
    "            if visited[next]: continue\n",
    "            print(f\"Fron node {node} to {next}\")\n",
    "            dfs(next)\n",
    "    dfs(edges[0][0])\n",
    "    count = 0\n",
    "    for i in visited:\n",
    "        if visited[i]:\n",
    "            count += 1\n",
    "    print(\"Visited List:\", visitList)\n",
    "    print(\"Max islands:\", count)"
   ]
  },
  {
   "cell_type": "code",
   "execution_count": 111,
   "metadata": {},
   "outputs": [
    {
     "name": "stdout",
     "output_type": "stream",
     "text": [
      "{1: [2], 2: [3, 6], 3: [4, 5], 4: [1], 5: [4], 6: [], 7: [3, 6]}\n",
      "Fron node 1 to 2\n",
      "Fron node 2 to 3\n",
      "Fron node 3 to 4\n",
      "Fron node 3 to 5\n",
      "Fron node 2 to 6\n",
      "Visited List: [1, 2, 3, 4, 5, 6]\n",
      "Max islands: 6\n"
     ]
    }
   ],
   "source": [
    "find_max_islands(n, edges)"
   ]
  }
 ],
 "metadata": {
  "kernelspec": {
   "display_name": "Python 3",
   "language": "python",
   "name": "python3"
  },
  "language_info": {
   "codemirror_mode": {
    "name": "ipython",
    "version": 3
   },
   "file_extension": ".py",
   "mimetype": "text/x-python",
   "name": "python",
   "nbconvert_exporter": "python",
   "pygments_lexer": "ipython3",
   "version": "3.11.5"
  }
 },
 "nbformat": 4,
 "nbformat_minor": 2
}
